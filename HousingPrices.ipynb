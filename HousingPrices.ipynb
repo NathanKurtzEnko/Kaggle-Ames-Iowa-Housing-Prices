{
 "cells": [
  {
   "cell_type": "markdown",
   "metadata": {},
   "source": [
    "# Ames Housing Data Kaggle Challenge"
   ]
  },
  {
   "cell_type": "markdown",
   "metadata": {},
   "source": [
    "## Import Useful Libraries"
   ]
  },
  {
   "cell_type": "code",
   "execution_count": 63,
   "metadata": {},
   "outputs": [],
   "source": [
    "import numpy as np #Numpy for math operations\n",
    "from scipy.misc import imread, imsave, imresize #Scipy to change images\n",
    "from sklearn import datasets  #Scikit-learn for machine learning and modeling\n",
    "from sklearn import metrics \n",
    "from sklearn.tree import DecisionTreeClassifier\n",
    "import pandas as pd #Pandas for reading and writing files\n",
    "import matplotlib.pyplot as plt #Matplotlib to explore data with graphs\n",
    "from pathlib import Path #to find file paths\n",
    "import os #to get working directory\n",
    "from sklearn.linear_model import LinearRegression #for a logistic regression function model\n",
    "from sklearn.preprocessing import PolynomialFeatures \n",
    "from statistics import mean"
   ]
  },
  {
   "cell_type": "markdown",
   "metadata": {},
   "source": [
    "## Import Data"
   ]
  },
  {
   "cell_type": "code",
   "execution_count": 4,
   "metadata": {},
   "outputs": [],
   "source": [
    "train_df = pd.read_csv(\"train.csv\")\n",
    "test_df = pd.read_csv(\"test.csv\")"
   ]
  },
  {
   "cell_type": "markdown",
   "metadata": {},
   "source": [
    "## EDA"
   ]
  },
  {
   "cell_type": "code",
   "execution_count": 5,
   "metadata": {},
   "outputs": [
    {
     "data": {
      "text/html": [
       "<div>\n",
       "<style scoped>\n",
       "    .dataframe tbody tr th:only-of-type {\n",
       "        vertical-align: middle;\n",
       "    }\n",
       "\n",
       "    .dataframe tbody tr th {\n",
       "        vertical-align: top;\n",
       "    }\n",
       "\n",
       "    .dataframe thead th {\n",
       "        text-align: right;\n",
       "    }\n",
       "</style>\n",
       "<table border=\"1\" class=\"dataframe\">\n",
       "  <thead>\n",
       "    <tr style=\"text-align: right;\">\n",
       "      <th></th>\n",
       "      <th>Id</th>\n",
       "      <th>MSSubClass</th>\n",
       "      <th>MSZoning</th>\n",
       "      <th>LotFrontage</th>\n",
       "      <th>LotArea</th>\n",
       "      <th>Street</th>\n",
       "      <th>Alley</th>\n",
       "      <th>LotShape</th>\n",
       "      <th>LandContour</th>\n",
       "      <th>Utilities</th>\n",
       "      <th>...</th>\n",
       "      <th>PoolArea</th>\n",
       "      <th>PoolQC</th>\n",
       "      <th>Fence</th>\n",
       "      <th>MiscFeature</th>\n",
       "      <th>MiscVal</th>\n",
       "      <th>MoSold</th>\n",
       "      <th>YrSold</th>\n",
       "      <th>SaleType</th>\n",
       "      <th>SaleCondition</th>\n",
       "      <th>SalePrice</th>\n",
       "    </tr>\n",
       "  </thead>\n",
       "  <tbody>\n",
       "    <tr>\n",
       "      <th>0</th>\n",
       "      <td>1</td>\n",
       "      <td>60</td>\n",
       "      <td>RL</td>\n",
       "      <td>65.0</td>\n",
       "      <td>8450</td>\n",
       "      <td>Pave</td>\n",
       "      <td>NaN</td>\n",
       "      <td>Reg</td>\n",
       "      <td>Lvl</td>\n",
       "      <td>AllPub</td>\n",
       "      <td>...</td>\n",
       "      <td>0</td>\n",
       "      <td>NaN</td>\n",
       "      <td>NaN</td>\n",
       "      <td>NaN</td>\n",
       "      <td>0</td>\n",
       "      <td>2</td>\n",
       "      <td>2008</td>\n",
       "      <td>WD</td>\n",
       "      <td>Normal</td>\n",
       "      <td>208500</td>\n",
       "    </tr>\n",
       "    <tr>\n",
       "      <th>1</th>\n",
       "      <td>2</td>\n",
       "      <td>20</td>\n",
       "      <td>RL</td>\n",
       "      <td>80.0</td>\n",
       "      <td>9600</td>\n",
       "      <td>Pave</td>\n",
       "      <td>NaN</td>\n",
       "      <td>Reg</td>\n",
       "      <td>Lvl</td>\n",
       "      <td>AllPub</td>\n",
       "      <td>...</td>\n",
       "      <td>0</td>\n",
       "      <td>NaN</td>\n",
       "      <td>NaN</td>\n",
       "      <td>NaN</td>\n",
       "      <td>0</td>\n",
       "      <td>5</td>\n",
       "      <td>2007</td>\n",
       "      <td>WD</td>\n",
       "      <td>Normal</td>\n",
       "      <td>181500</td>\n",
       "    </tr>\n",
       "    <tr>\n",
       "      <th>2</th>\n",
       "      <td>3</td>\n",
       "      <td>60</td>\n",
       "      <td>RL</td>\n",
       "      <td>68.0</td>\n",
       "      <td>11250</td>\n",
       "      <td>Pave</td>\n",
       "      <td>NaN</td>\n",
       "      <td>IR1</td>\n",
       "      <td>Lvl</td>\n",
       "      <td>AllPub</td>\n",
       "      <td>...</td>\n",
       "      <td>0</td>\n",
       "      <td>NaN</td>\n",
       "      <td>NaN</td>\n",
       "      <td>NaN</td>\n",
       "      <td>0</td>\n",
       "      <td>9</td>\n",
       "      <td>2008</td>\n",
       "      <td>WD</td>\n",
       "      <td>Normal</td>\n",
       "      <td>223500</td>\n",
       "    </tr>\n",
       "    <tr>\n",
       "      <th>3</th>\n",
       "      <td>4</td>\n",
       "      <td>70</td>\n",
       "      <td>RL</td>\n",
       "      <td>60.0</td>\n",
       "      <td>9550</td>\n",
       "      <td>Pave</td>\n",
       "      <td>NaN</td>\n",
       "      <td>IR1</td>\n",
       "      <td>Lvl</td>\n",
       "      <td>AllPub</td>\n",
       "      <td>...</td>\n",
       "      <td>0</td>\n",
       "      <td>NaN</td>\n",
       "      <td>NaN</td>\n",
       "      <td>NaN</td>\n",
       "      <td>0</td>\n",
       "      <td>2</td>\n",
       "      <td>2006</td>\n",
       "      <td>WD</td>\n",
       "      <td>Abnorml</td>\n",
       "      <td>140000</td>\n",
       "    </tr>\n",
       "    <tr>\n",
       "      <th>4</th>\n",
       "      <td>5</td>\n",
       "      <td>60</td>\n",
       "      <td>RL</td>\n",
       "      <td>84.0</td>\n",
       "      <td>14260</td>\n",
       "      <td>Pave</td>\n",
       "      <td>NaN</td>\n",
       "      <td>IR1</td>\n",
       "      <td>Lvl</td>\n",
       "      <td>AllPub</td>\n",
       "      <td>...</td>\n",
       "      <td>0</td>\n",
       "      <td>NaN</td>\n",
       "      <td>NaN</td>\n",
       "      <td>NaN</td>\n",
       "      <td>0</td>\n",
       "      <td>12</td>\n",
       "      <td>2008</td>\n",
       "      <td>WD</td>\n",
       "      <td>Normal</td>\n",
       "      <td>250000</td>\n",
       "    </tr>\n",
       "  </tbody>\n",
       "</table>\n",
       "<p>5 rows × 81 columns</p>\n",
       "</div>"
      ],
      "text/plain": [
       "   Id  MSSubClass MSZoning  LotFrontage  LotArea Street Alley LotShape  \\\n",
       "0   1          60       RL         65.0     8450   Pave   NaN      Reg   \n",
       "1   2          20       RL         80.0     9600   Pave   NaN      Reg   \n",
       "2   3          60       RL         68.0    11250   Pave   NaN      IR1   \n",
       "3   4          70       RL         60.0     9550   Pave   NaN      IR1   \n",
       "4   5          60       RL         84.0    14260   Pave   NaN      IR1   \n",
       "\n",
       "  LandContour Utilities  ... PoolArea PoolQC Fence MiscFeature MiscVal MoSold  \\\n",
       "0         Lvl    AllPub  ...        0    NaN   NaN         NaN       0      2   \n",
       "1         Lvl    AllPub  ...        0    NaN   NaN         NaN       0      5   \n",
       "2         Lvl    AllPub  ...        0    NaN   NaN         NaN       0      9   \n",
       "3         Lvl    AllPub  ...        0    NaN   NaN         NaN       0      2   \n",
       "4         Lvl    AllPub  ...        0    NaN   NaN         NaN       0     12   \n",
       "\n",
       "  YrSold  SaleType  SaleCondition  SalePrice  \n",
       "0   2008        WD         Normal     208500  \n",
       "1   2007        WD         Normal     181500  \n",
       "2   2008        WD         Normal     223500  \n",
       "3   2006        WD        Abnorml     140000  \n",
       "4   2008        WD         Normal     250000  \n",
       "\n",
       "[5 rows x 81 columns]"
      ]
     },
     "execution_count": 5,
     "metadata": {},
     "output_type": "execute_result"
    }
   ],
   "source": [
    "train_df.head()"
   ]
  },
  {
   "cell_type": "code",
   "execution_count": 6,
   "metadata": {},
   "outputs": [
    {
     "data": {
      "text/plain": [
       "['Id',\n",
       " 'MSSubClass',\n",
       " 'MSZoning',\n",
       " 'LotFrontage',\n",
       " 'LotArea',\n",
       " 'Street',\n",
       " 'Alley',\n",
       " 'LotShape',\n",
       " 'LandContour',\n",
       " 'Utilities',\n",
       " 'LotConfig',\n",
       " 'LandSlope',\n",
       " 'Neighborhood',\n",
       " 'Condition1',\n",
       " 'Condition2',\n",
       " 'BldgType',\n",
       " 'HouseStyle',\n",
       " 'OverallQual',\n",
       " 'OverallCond',\n",
       " 'YearBuilt',\n",
       " 'YearRemodAdd',\n",
       " 'RoofStyle',\n",
       " 'RoofMatl',\n",
       " 'Exterior1st',\n",
       " 'Exterior2nd',\n",
       " 'MasVnrType',\n",
       " 'MasVnrArea',\n",
       " 'ExterQual',\n",
       " 'ExterCond',\n",
       " 'Foundation',\n",
       " 'BsmtQual',\n",
       " 'BsmtCond',\n",
       " 'BsmtExposure',\n",
       " 'BsmtFinType1',\n",
       " 'BsmtFinSF1',\n",
       " 'BsmtFinType2',\n",
       " 'BsmtFinSF2',\n",
       " 'BsmtUnfSF',\n",
       " 'TotalBsmtSF',\n",
       " 'Heating',\n",
       " 'HeatingQC',\n",
       " 'CentralAir',\n",
       " 'Electrical',\n",
       " '1stFlrSF',\n",
       " '2ndFlrSF',\n",
       " 'LowQualFinSF',\n",
       " 'GrLivArea',\n",
       " 'BsmtFullBath',\n",
       " 'BsmtHalfBath',\n",
       " 'FullBath',\n",
       " 'HalfBath',\n",
       " 'BedroomAbvGr',\n",
       " 'KitchenAbvGr',\n",
       " 'KitchenQual',\n",
       " 'TotRmsAbvGrd',\n",
       " 'Functional',\n",
       " 'Fireplaces',\n",
       " 'FireplaceQu',\n",
       " 'GarageType',\n",
       " 'GarageYrBlt',\n",
       " 'GarageFinish',\n",
       " 'GarageCars',\n",
       " 'GarageArea',\n",
       " 'GarageQual',\n",
       " 'GarageCond',\n",
       " 'PavedDrive',\n",
       " 'WoodDeckSF',\n",
       " 'OpenPorchSF',\n",
       " 'EnclosedPorch',\n",
       " '3SsnPorch',\n",
       " 'ScreenPorch',\n",
       " 'PoolArea',\n",
       " 'PoolQC',\n",
       " 'Fence',\n",
       " 'MiscFeature',\n",
       " 'MiscVal',\n",
       " 'MoSold',\n",
       " 'YrSold',\n",
       " 'SaleType',\n",
       " 'SaleCondition',\n",
       " 'SalePrice']"
      ]
     },
     "execution_count": 6,
     "metadata": {},
     "output_type": "execute_result"
    }
   ],
   "source": [
    "col_names = list(train_df.columns) #get column names\n",
    "col_names"
   ]
  },
  {
   "cell_type": "code",
   "execution_count": 7,
   "metadata": {},
   "outputs": [
    {
     "data": {
      "text/plain": [
       "(1460, 81)"
      ]
     },
     "execution_count": 7,
     "metadata": {},
     "output_type": "execute_result"
    }
   ],
   "source": [
    "train_df.shape"
   ]
  },
  {
   "cell_type": "code",
   "execution_count": 8,
   "metadata": {},
   "outputs": [
    {
     "data": {
      "text/plain": [
       "Id                 int64\n",
       "MSSubClass         int64\n",
       "MSZoning          object\n",
       "LotFrontage      float64\n",
       "LotArea            int64\n",
       "Street            object\n",
       "Alley             object\n",
       "LotShape          object\n",
       "LandContour       object\n",
       "Utilities         object\n",
       "LotConfig         object\n",
       "LandSlope         object\n",
       "Neighborhood      object\n",
       "Condition1        object\n",
       "Condition2        object\n",
       "BldgType          object\n",
       "HouseStyle        object\n",
       "OverallQual        int64\n",
       "OverallCond        int64\n",
       "YearBuilt          int64\n",
       "YearRemodAdd       int64\n",
       "RoofStyle         object\n",
       "RoofMatl          object\n",
       "Exterior1st       object\n",
       "Exterior2nd       object\n",
       "MasVnrType        object\n",
       "MasVnrArea       float64\n",
       "ExterQual         object\n",
       "ExterCond         object\n",
       "Foundation        object\n",
       "                  ...   \n",
       "BedroomAbvGr       int64\n",
       "KitchenAbvGr       int64\n",
       "KitchenQual       object\n",
       "TotRmsAbvGrd       int64\n",
       "Functional        object\n",
       "Fireplaces         int64\n",
       "FireplaceQu       object\n",
       "GarageType        object\n",
       "GarageYrBlt      float64\n",
       "GarageFinish      object\n",
       "GarageCars         int64\n",
       "GarageArea         int64\n",
       "GarageQual        object\n",
       "GarageCond        object\n",
       "PavedDrive        object\n",
       "WoodDeckSF         int64\n",
       "OpenPorchSF        int64\n",
       "EnclosedPorch      int64\n",
       "3SsnPorch          int64\n",
       "ScreenPorch        int64\n",
       "PoolArea           int64\n",
       "PoolQC            object\n",
       "Fence             object\n",
       "MiscFeature       object\n",
       "MiscVal            int64\n",
       "MoSold             int64\n",
       "YrSold             int64\n",
       "SaleType          object\n",
       "SaleCondition     object\n",
       "SalePrice          int64\n",
       "Length: 81, dtype: object"
      ]
     },
     "execution_count": 8,
     "metadata": {},
     "output_type": "execute_result"
    }
   ],
   "source": [
    "train_df.dtypes"
   ]
  },
  {
   "cell_type": "code",
   "execution_count": 9,
   "metadata": {},
   "outputs": [
    {
     "name": "stdout",
     "output_type": "stream",
     "text": [
      "The number of NA values in the column  Id  is:  0\n",
      "The number of NA values in the column  MSSubClass  is:  0\n",
      "The number of NA values in the column  MSZoning  is:  0\n",
      "The number of NA values in the column  LotFrontage  is:  259\n",
      "The number of NA values in the column  LotArea  is:  0\n",
      "The number of NA values in the column  Street  is:  0\n",
      "The number of NA values in the column  Alley  is:  1369\n",
      "The number of NA values in the column  LotShape  is:  0\n",
      "The number of NA values in the column  LandContour  is:  0\n",
      "The number of NA values in the column  Utilities  is:  0\n",
      "The number of NA values in the column  LotConfig  is:  0\n",
      "The number of NA values in the column  LandSlope  is:  0\n",
      "The number of NA values in the column  Neighborhood  is:  0\n",
      "The number of NA values in the column  Condition1  is:  0\n",
      "The number of NA values in the column  Condition2  is:  0\n",
      "The number of NA values in the column  BldgType  is:  0\n",
      "The number of NA values in the column  HouseStyle  is:  0\n",
      "The number of NA values in the column  OverallQual  is:  0\n",
      "The number of NA values in the column  OverallCond  is:  0\n",
      "The number of NA values in the column  YearBuilt  is:  0\n",
      "The number of NA values in the column  YearRemodAdd  is:  0\n",
      "The number of NA values in the column  RoofStyle  is:  0\n",
      "The number of NA values in the column  RoofMatl  is:  0\n",
      "The number of NA values in the column  Exterior1st  is:  0\n",
      "The number of NA values in the column  Exterior2nd  is:  0\n",
      "The number of NA values in the column  MasVnrType  is:  8\n",
      "The number of NA values in the column  MasVnrArea  is:  8\n",
      "The number of NA values in the column  ExterQual  is:  0\n",
      "The number of NA values in the column  ExterCond  is:  0\n",
      "The number of NA values in the column  Foundation  is:  0\n",
      "The number of NA values in the column  BsmtQual  is:  37\n",
      "The number of NA values in the column  BsmtCond  is:  37\n",
      "The number of NA values in the column  BsmtExposure  is:  38\n",
      "The number of NA values in the column  BsmtFinType1  is:  37\n",
      "The number of NA values in the column  BsmtFinSF1  is:  0\n",
      "The number of NA values in the column  BsmtFinType2  is:  38\n",
      "The number of NA values in the column  BsmtFinSF2  is:  0\n",
      "The number of NA values in the column  BsmtUnfSF  is:  0\n",
      "The number of NA values in the column  TotalBsmtSF  is:  0\n",
      "The number of NA values in the column  Heating  is:  0\n",
      "The number of NA values in the column  HeatingQC  is:  0\n",
      "The number of NA values in the column  CentralAir  is:  0\n",
      "The number of NA values in the column  Electrical  is:  1\n",
      "The number of NA values in the column  1stFlrSF  is:  0\n",
      "The number of NA values in the column  2ndFlrSF  is:  0\n",
      "The number of NA values in the column  LowQualFinSF  is:  0\n",
      "The number of NA values in the column  GrLivArea  is:  0\n",
      "The number of NA values in the column  BsmtFullBath  is:  0\n",
      "The number of NA values in the column  BsmtHalfBath  is:  0\n",
      "The number of NA values in the column  FullBath  is:  0\n",
      "The number of NA values in the column  HalfBath  is:  0\n",
      "The number of NA values in the column  BedroomAbvGr  is:  0\n",
      "The number of NA values in the column  KitchenAbvGr  is:  0\n",
      "The number of NA values in the column  KitchenQual  is:  0\n",
      "The number of NA values in the column  TotRmsAbvGrd  is:  0\n",
      "The number of NA values in the column  Functional  is:  0\n",
      "The number of NA values in the column  Fireplaces  is:  0\n",
      "The number of NA values in the column  FireplaceQu  is:  690\n",
      "The number of NA values in the column  GarageType  is:  81\n",
      "The number of NA values in the column  GarageYrBlt  is:  81\n",
      "The number of NA values in the column  GarageFinish  is:  81\n",
      "The number of NA values in the column  GarageCars  is:  0\n",
      "The number of NA values in the column  GarageArea  is:  0\n",
      "The number of NA values in the column  GarageQual  is:  81\n",
      "The number of NA values in the column  GarageCond  is:  81\n",
      "The number of NA values in the column  PavedDrive  is:  0\n",
      "The number of NA values in the column  WoodDeckSF  is:  0\n",
      "The number of NA values in the column  OpenPorchSF  is:  0\n",
      "The number of NA values in the column  EnclosedPorch  is:  0\n",
      "The number of NA values in the column  3SsnPorch  is:  0\n",
      "The number of NA values in the column  ScreenPorch  is:  0\n",
      "The number of NA values in the column  PoolArea  is:  0\n",
      "The number of NA values in the column  PoolQC  is:  1453\n",
      "The number of NA values in the column  Fence  is:  1179\n",
      "The number of NA values in the column  MiscFeature  is:  1406\n",
      "The number of NA values in the column  MiscVal  is:  0\n",
      "The number of NA values in the column  MoSold  is:  0\n",
      "The number of NA values in the column  YrSold  is:  0\n",
      "The number of NA values in the column  SaleType  is:  0\n",
      "The number of NA values in the column  SaleCondition  is:  0\n",
      "The number of NA values in the column  SalePrice  is:  0\n"
     ]
    }
   ],
   "source": [
    "NA_list = []\n",
    "for i in col_names:\n",
    "    col = train_df[i] #selects column\n",
    "    num_NA = sum(col.isna()) #sums the number of NA values for selected column\n",
    "    print(\"The number of NA values in the column \", i, \" is: \", num_NA)\n",
    "    if num_NA > 0:\n",
    "        NA_list.append(i)"
   ]
  },
  {
   "cell_type": "code",
   "execution_count": 37,
   "metadata": {},
   "outputs": [
    {
     "data": {
      "text/html": [
       "<div>\n",
       "<style scoped>\n",
       "    .dataframe tbody tr th:only-of-type {\n",
       "        vertical-align: middle;\n",
       "    }\n",
       "\n",
       "    .dataframe tbody tr th {\n",
       "        vertical-align: top;\n",
       "    }\n",
       "\n",
       "    .dataframe thead th {\n",
       "        text-align: right;\n",
       "    }\n",
       "</style>\n",
       "<table border=\"1\" class=\"dataframe\">\n",
       "  <thead>\n",
       "    <tr style=\"text-align: right;\">\n",
       "      <th></th>\n",
       "      <th>Id</th>\n",
       "      <th>MSSubClass</th>\n",
       "      <th>MSZoning</th>\n",
       "      <th>LotFrontage</th>\n",
       "      <th>LotArea</th>\n",
       "      <th>Street</th>\n",
       "      <th>Alley</th>\n",
       "      <th>LotShape</th>\n",
       "      <th>LandContour</th>\n",
       "      <th>Utilities</th>\n",
       "      <th>...</th>\n",
       "      <th>ScreenPorch</th>\n",
       "      <th>PoolArea</th>\n",
       "      <th>PoolQC</th>\n",
       "      <th>Fence</th>\n",
       "      <th>MiscFeature</th>\n",
       "      <th>MiscVal</th>\n",
       "      <th>MoSold</th>\n",
       "      <th>YrSold</th>\n",
       "      <th>SaleType</th>\n",
       "      <th>SaleCondition</th>\n",
       "    </tr>\n",
       "  </thead>\n",
       "  <tbody>\n",
       "    <tr>\n",
       "      <th>0</th>\n",
       "      <td>1461</td>\n",
       "      <td>20</td>\n",
       "      <td>RH</td>\n",
       "      <td>80.0</td>\n",
       "      <td>11622</td>\n",
       "      <td>Pave</td>\n",
       "      <td>NaN</td>\n",
       "      <td>Reg</td>\n",
       "      <td>Lvl</td>\n",
       "      <td>AllPub</td>\n",
       "      <td>...</td>\n",
       "      <td>120</td>\n",
       "      <td>0</td>\n",
       "      <td>NaN</td>\n",
       "      <td>MnPrv</td>\n",
       "      <td>NaN</td>\n",
       "      <td>0</td>\n",
       "      <td>6</td>\n",
       "      <td>2010</td>\n",
       "      <td>WD</td>\n",
       "      <td>Normal</td>\n",
       "    </tr>\n",
       "    <tr>\n",
       "      <th>1</th>\n",
       "      <td>1462</td>\n",
       "      <td>20</td>\n",
       "      <td>RL</td>\n",
       "      <td>81.0</td>\n",
       "      <td>14267</td>\n",
       "      <td>Pave</td>\n",
       "      <td>NaN</td>\n",
       "      <td>IR1</td>\n",
       "      <td>Lvl</td>\n",
       "      <td>AllPub</td>\n",
       "      <td>...</td>\n",
       "      <td>0</td>\n",
       "      <td>0</td>\n",
       "      <td>NaN</td>\n",
       "      <td>NaN</td>\n",
       "      <td>Gar2</td>\n",
       "      <td>12500</td>\n",
       "      <td>6</td>\n",
       "      <td>2010</td>\n",
       "      <td>WD</td>\n",
       "      <td>Normal</td>\n",
       "    </tr>\n",
       "    <tr>\n",
       "      <th>2</th>\n",
       "      <td>1463</td>\n",
       "      <td>60</td>\n",
       "      <td>RL</td>\n",
       "      <td>74.0</td>\n",
       "      <td>13830</td>\n",
       "      <td>Pave</td>\n",
       "      <td>NaN</td>\n",
       "      <td>IR1</td>\n",
       "      <td>Lvl</td>\n",
       "      <td>AllPub</td>\n",
       "      <td>...</td>\n",
       "      <td>0</td>\n",
       "      <td>0</td>\n",
       "      <td>NaN</td>\n",
       "      <td>MnPrv</td>\n",
       "      <td>NaN</td>\n",
       "      <td>0</td>\n",
       "      <td>3</td>\n",
       "      <td>2010</td>\n",
       "      <td>WD</td>\n",
       "      <td>Normal</td>\n",
       "    </tr>\n",
       "    <tr>\n",
       "      <th>3</th>\n",
       "      <td>1464</td>\n",
       "      <td>60</td>\n",
       "      <td>RL</td>\n",
       "      <td>78.0</td>\n",
       "      <td>9978</td>\n",
       "      <td>Pave</td>\n",
       "      <td>NaN</td>\n",
       "      <td>IR1</td>\n",
       "      <td>Lvl</td>\n",
       "      <td>AllPub</td>\n",
       "      <td>...</td>\n",
       "      <td>0</td>\n",
       "      <td>0</td>\n",
       "      <td>NaN</td>\n",
       "      <td>NaN</td>\n",
       "      <td>NaN</td>\n",
       "      <td>0</td>\n",
       "      <td>6</td>\n",
       "      <td>2010</td>\n",
       "      <td>WD</td>\n",
       "      <td>Normal</td>\n",
       "    </tr>\n",
       "    <tr>\n",
       "      <th>4</th>\n",
       "      <td>1465</td>\n",
       "      <td>120</td>\n",
       "      <td>RL</td>\n",
       "      <td>43.0</td>\n",
       "      <td>5005</td>\n",
       "      <td>Pave</td>\n",
       "      <td>NaN</td>\n",
       "      <td>IR1</td>\n",
       "      <td>HLS</td>\n",
       "      <td>AllPub</td>\n",
       "      <td>...</td>\n",
       "      <td>144</td>\n",
       "      <td>0</td>\n",
       "      <td>NaN</td>\n",
       "      <td>NaN</td>\n",
       "      <td>NaN</td>\n",
       "      <td>0</td>\n",
       "      <td>1</td>\n",
       "      <td>2010</td>\n",
       "      <td>WD</td>\n",
       "      <td>Normal</td>\n",
       "    </tr>\n",
       "  </tbody>\n",
       "</table>\n",
       "<p>5 rows × 80 columns</p>\n",
       "</div>"
      ],
      "text/plain": [
       "     Id  MSSubClass MSZoning  LotFrontage  LotArea Street Alley LotShape  \\\n",
       "0  1461          20       RH         80.0    11622   Pave   NaN      Reg   \n",
       "1  1462          20       RL         81.0    14267   Pave   NaN      IR1   \n",
       "2  1463          60       RL         74.0    13830   Pave   NaN      IR1   \n",
       "3  1464          60       RL         78.0     9978   Pave   NaN      IR1   \n",
       "4  1465         120       RL         43.0     5005   Pave   NaN      IR1   \n",
       "\n",
       "  LandContour Utilities  ... ScreenPorch PoolArea PoolQC  Fence MiscFeature  \\\n",
       "0         Lvl    AllPub  ...         120        0    NaN  MnPrv         NaN   \n",
       "1         Lvl    AllPub  ...           0        0    NaN    NaN        Gar2   \n",
       "2         Lvl    AllPub  ...           0        0    NaN  MnPrv         NaN   \n",
       "3         Lvl    AllPub  ...           0        0    NaN    NaN         NaN   \n",
       "4         HLS    AllPub  ...         144        0    NaN    NaN         NaN   \n",
       "\n",
       "  MiscVal MoSold  YrSold  SaleType  SaleCondition  \n",
       "0       0      6    2010        WD         Normal  \n",
       "1   12500      6    2010        WD         Normal  \n",
       "2       0      3    2010        WD         Normal  \n",
       "3       0      6    2010        WD         Normal  \n",
       "4       0      1    2010        WD         Normal  \n",
       "\n",
       "[5 rows x 80 columns]"
      ]
     },
     "execution_count": 37,
     "metadata": {},
     "output_type": "execute_result"
    }
   ],
   "source": [
    "test_df.head()"
   ]
  },
  {
   "cell_type": "code",
   "execution_count": 10,
   "metadata": {},
   "outputs": [
    {
     "data": {
      "text/plain": [
       "(1459, 80)"
      ]
     },
     "execution_count": 10,
     "metadata": {},
     "output_type": "execute_result"
    }
   ],
   "source": [
    "test_df.shape"
   ]
  },
  {
   "cell_type": "code",
   "execution_count": 11,
   "metadata": {},
   "outputs": [
    {
     "data": {
      "text/plain": [
       "Id                 int64\n",
       "MSSubClass         int64\n",
       "MSZoning          object\n",
       "LotFrontage      float64\n",
       "LotArea            int64\n",
       "Street            object\n",
       "Alley             object\n",
       "LotShape          object\n",
       "LandContour       object\n",
       "Utilities         object\n",
       "LotConfig         object\n",
       "LandSlope         object\n",
       "Neighborhood      object\n",
       "Condition1        object\n",
       "Condition2        object\n",
       "BldgType          object\n",
       "HouseStyle        object\n",
       "OverallQual        int64\n",
       "OverallCond        int64\n",
       "YearBuilt          int64\n",
       "YearRemodAdd       int64\n",
       "RoofStyle         object\n",
       "RoofMatl          object\n",
       "Exterior1st       object\n",
       "Exterior2nd       object\n",
       "MasVnrType        object\n",
       "MasVnrArea       float64\n",
       "ExterQual         object\n",
       "ExterCond         object\n",
       "Foundation        object\n",
       "                  ...   \n",
       "HalfBath           int64\n",
       "BedroomAbvGr       int64\n",
       "KitchenAbvGr       int64\n",
       "KitchenQual       object\n",
       "TotRmsAbvGrd       int64\n",
       "Functional        object\n",
       "Fireplaces         int64\n",
       "FireplaceQu       object\n",
       "GarageType        object\n",
       "GarageYrBlt      float64\n",
       "GarageFinish      object\n",
       "GarageCars       float64\n",
       "GarageArea       float64\n",
       "GarageQual        object\n",
       "GarageCond        object\n",
       "PavedDrive        object\n",
       "WoodDeckSF         int64\n",
       "OpenPorchSF        int64\n",
       "EnclosedPorch      int64\n",
       "3SsnPorch          int64\n",
       "ScreenPorch        int64\n",
       "PoolArea           int64\n",
       "PoolQC            object\n",
       "Fence             object\n",
       "MiscFeature       object\n",
       "MiscVal            int64\n",
       "MoSold             int64\n",
       "YrSold             int64\n",
       "SaleType          object\n",
       "SaleCondition     object\n",
       "Length: 80, dtype: object"
      ]
     },
     "execution_count": 11,
     "metadata": {},
     "output_type": "execute_result"
    }
   ],
   "source": [
    "test_df.dtypes"
   ]
  },
  {
   "cell_type": "code",
   "execution_count": 12,
   "metadata": {},
   "outputs": [
    {
     "name": "stdout",
     "output_type": "stream",
     "text": [
      "The number of NA values in the column  Id  is:  0\n",
      "The number of NA values in the column  MSSubClass  is:  0\n",
      "The number of NA values in the column  MSZoning  is:  4\n",
      "The number of NA values in the column  LotFrontage  is:  227\n",
      "The number of NA values in the column  LotArea  is:  0\n",
      "The number of NA values in the column  Street  is:  0\n",
      "The number of NA values in the column  Alley  is:  1352\n",
      "The number of NA values in the column  LotShape  is:  0\n",
      "The number of NA values in the column  LandContour  is:  0\n",
      "The number of NA values in the column  Utilities  is:  2\n",
      "The number of NA values in the column  LotConfig  is:  0\n",
      "The number of NA values in the column  LandSlope  is:  0\n",
      "The number of NA values in the column  Neighborhood  is:  0\n",
      "The number of NA values in the column  Condition1  is:  0\n",
      "The number of NA values in the column  Condition2  is:  0\n",
      "The number of NA values in the column  BldgType  is:  0\n",
      "The number of NA values in the column  HouseStyle  is:  0\n",
      "The number of NA values in the column  OverallQual  is:  0\n",
      "The number of NA values in the column  OverallCond  is:  0\n",
      "The number of NA values in the column  YearBuilt  is:  0\n",
      "The number of NA values in the column  YearRemodAdd  is:  0\n",
      "The number of NA values in the column  RoofStyle  is:  0\n",
      "The number of NA values in the column  RoofMatl  is:  0\n",
      "The number of NA values in the column  Exterior1st  is:  1\n",
      "The number of NA values in the column  Exterior2nd  is:  1\n",
      "The number of NA values in the column  MasVnrType  is:  16\n",
      "The number of NA values in the column  MasVnrArea  is:  15\n",
      "The number of NA values in the column  ExterQual  is:  0\n",
      "The number of NA values in the column  ExterCond  is:  0\n",
      "The number of NA values in the column  Foundation  is:  0\n",
      "The number of NA values in the column  BsmtQual  is:  44\n",
      "The number of NA values in the column  BsmtCond  is:  45\n",
      "The number of NA values in the column  BsmtExposure  is:  44\n",
      "The number of NA values in the column  BsmtFinType1  is:  42\n",
      "The number of NA values in the column  BsmtFinSF1  is:  1\n",
      "The number of NA values in the column  BsmtFinType2  is:  42\n",
      "The number of NA values in the column  BsmtFinSF2  is:  1\n",
      "The number of NA values in the column  BsmtUnfSF  is:  1\n",
      "The number of NA values in the column  TotalBsmtSF  is:  1\n",
      "The number of NA values in the column  Heating  is:  0\n",
      "The number of NA values in the column  HeatingQC  is:  0\n",
      "The number of NA values in the column  CentralAir  is:  0\n",
      "The number of NA values in the column  Electrical  is:  0\n",
      "The number of NA values in the column  1stFlrSF  is:  0\n",
      "The number of NA values in the column  2ndFlrSF  is:  0\n",
      "The number of NA values in the column  LowQualFinSF  is:  0\n",
      "The number of NA values in the column  GrLivArea  is:  0\n",
      "The number of NA values in the column  BsmtFullBath  is:  2\n",
      "The number of NA values in the column  BsmtHalfBath  is:  2\n",
      "The number of NA values in the column  FullBath  is:  0\n",
      "The number of NA values in the column  HalfBath  is:  0\n",
      "The number of NA values in the column  BedroomAbvGr  is:  0\n",
      "The number of NA values in the column  KitchenAbvGr  is:  0\n",
      "The number of NA values in the column  KitchenQual  is:  1\n",
      "The number of NA values in the column  TotRmsAbvGrd  is:  0\n",
      "The number of NA values in the column  Functional  is:  2\n",
      "The number of NA values in the column  Fireplaces  is:  0\n",
      "The number of NA values in the column  FireplaceQu  is:  730\n",
      "The number of NA values in the column  GarageType  is:  76\n",
      "The number of NA values in the column  GarageYrBlt  is:  78\n",
      "The number of NA values in the column  GarageFinish  is:  78\n",
      "The number of NA values in the column  GarageCars  is:  1\n",
      "The number of NA values in the column  GarageArea  is:  1\n",
      "The number of NA values in the column  GarageQual  is:  78\n",
      "The number of NA values in the column  GarageCond  is:  78\n",
      "The number of NA values in the column  PavedDrive  is:  0\n",
      "The number of NA values in the column  WoodDeckSF  is:  0\n",
      "The number of NA values in the column  OpenPorchSF  is:  0\n",
      "The number of NA values in the column  EnclosedPorch  is:  0\n",
      "The number of NA values in the column  3SsnPorch  is:  0\n",
      "The number of NA values in the column  ScreenPorch  is:  0\n",
      "The number of NA values in the column  PoolArea  is:  0\n",
      "The number of NA values in the column  PoolQC  is:  1456\n",
      "The number of NA values in the column  Fence  is:  1169\n",
      "The number of NA values in the column  MiscFeature  is:  1408\n",
      "The number of NA values in the column  MiscVal  is:  0\n",
      "The number of NA values in the column  MoSold  is:  0\n",
      "The number of NA values in the column  YrSold  is:  0\n",
      "The number of NA values in the column  SaleType  is:  1\n",
      "The number of NA values in the column  SaleCondition  is:  0\n"
     ]
    }
   ],
   "source": [
    "col_names = list(test_df.columns) #get column names\n",
    "for i in col_names:\n",
    "    col = test_df[i] #selects column\n",
    "    num_NA = sum(col.isna()) #sums the number of NA values for selected column\n",
    "    print(\"The number of NA values in the column \", i, \" is: \", num_NA)\n",
    "    if num_NA > 0 and i not in NA_list:\n",
    "        NA_list.append(i)"
   ]
  },
  {
   "cell_type": "markdown",
   "metadata": {},
   "source": [
    "There are lots of columns with missing data. A good question to ask may be if we can simply replace missing values with zeros, as some variables seem to be continuous and missing values may apply to houses that simply do not have this particular attribute, in which case a '0' would also be fitting. This would allow us to keep more columns.\n",
    "\n",
    "Perhaps consider forward subset selection or LASSO given that this data set is somewhat wide. Otherwise, regression seems like a good tactic since we will be trying to predict on a continuous variable.\n",
    "\n",
    "Alley, PoolQC, MiscFeature, Fence, and FireplaceQu have significant numbers missing. Consider dropping these variables.\n",
    "\n",
    "Any 'Quality' and 'Condition' variables are object type variables, some with missing data. Consider converting into factor or numeric and using classification model to fill in the missing data.\n",
    "\n",
    "Use regression models to fill in missing data for continuous variables or use mean value"
   ]
  },
  {
   "cell_type": "markdown",
   "metadata": {},
   "source": [
    "## Fill in and Replace NAs"
   ]
  },
  {
   "cell_type": "markdown",
   "metadata": {},
   "source": [
    "Let's do this, we will create an \"Other\" category for some of our missing data, fill in continuous missing data with averages (group the data by area or neighborhood for some of these).\n",
    "\n",
    "Let's combine the train and test data together so that after replacing all the NA values and creating the dummy variables their shape is the same for creating our models."
   ]
  },
  {
   "cell_type": "code",
   "execution_count": 13,
   "metadata": {},
   "outputs": [
    {
     "data": {
      "text/plain": [
       "(2919, 81)"
      ]
     },
     "execution_count": 13,
     "metadata": {},
     "output_type": "execute_result"
    }
   ],
   "source": [
    "#combine data sets\n",
    "\n",
    "data = pd.concat([train_df, test_df], sort = False, axis = 0)\n",
    "data.shape"
   ]
  },
  {
   "cell_type": "code",
   "execution_count": 14,
   "metadata": {},
   "outputs": [
    {
     "data": {
      "text/plain": [
       "['LotFrontage',\n",
       " 'Alley',\n",
       " 'MasVnrType',\n",
       " 'MasVnrArea',\n",
       " 'BsmtQual',\n",
       " 'BsmtCond',\n",
       " 'BsmtExposure',\n",
       " 'BsmtFinType1',\n",
       " 'BsmtFinType2',\n",
       " 'Electrical',\n",
       " 'FireplaceQu',\n",
       " 'GarageType',\n",
       " 'GarageYrBlt',\n",
       " 'GarageFinish',\n",
       " 'GarageQual',\n",
       " 'GarageCond',\n",
       " 'PoolQC',\n",
       " 'Fence',\n",
       " 'MiscFeature',\n",
       " 'MSZoning',\n",
       " 'Utilities',\n",
       " 'Exterior1st',\n",
       " 'Exterior2nd',\n",
       " 'BsmtFinSF1',\n",
       " 'BsmtFinSF2',\n",
       " 'BsmtUnfSF',\n",
       " 'TotalBsmtSF',\n",
       " 'BsmtFullBath',\n",
       " 'BsmtHalfBath',\n",
       " 'KitchenQual',\n",
       " 'Functional',\n",
       " 'GarageCars',\n",
       " 'GarageArea',\n",
       " 'SaleType']"
      ]
     },
     "execution_count": 14,
     "metadata": {},
     "output_type": "execute_result"
    }
   ],
   "source": [
    "NA_list"
   ]
  },
  {
   "cell_type": "code",
   "execution_count": 15,
   "metadata": {},
   "outputs": [],
   "source": [
    "#drop variables\n",
    "bad_vars = [\"MiscFeature\", \"Fence\", \"PoolQC\", \"Alley\"]\n",
    "data = data.drop(columns = bad_vars)\n"
   ]
  },
  {
   "cell_type": "code",
   "execution_count": 16,
   "metadata": {},
   "outputs": [
    {
     "name": "stdout",
     "output_type": "stream",
     "text": [
      "['LotFrontage', 'MasVnrType', 'MasVnrArea', 'BsmtQual', 'BsmtCond', 'BsmtExposure', 'BsmtFinType1', 'BsmtFinType2', 'Electrical', 'FireplaceQu', 'GarageType', 'GarageYrBlt', 'GarageFinish', 'GarageQual', 'GarageCond', 'MSZoning', 'Utilities', 'Exterior1st', 'Exterior2nd', 'BsmtFinSF1', 'BsmtFinSF2', 'BsmtUnfSF', 'TotalBsmtSF', 'BsmtFullBath', 'BsmtHalfBath', 'KitchenQual', 'Functional', 'GarageCars', 'GarageArea', 'SaleType']\n"
     ]
    }
   ],
   "source": [
    "#get rid of bad vars from NA list\n",
    "for i in bad_vars:\n",
    "    NA_list.remove(i)\n",
    "print(NA_list)"
   ]
  },
  {
   "cell_type": "code",
   "execution_count": 17,
   "metadata": {},
   "outputs": [],
   "source": [
    "#separate these into categorical and numerical variables\n",
    "cat = []\n",
    "num = []\n",
    "for i in NA_list:\n",
    "    if data[i].dtype == np.int64 or data[i].dtype == np.float64:\n",
    "        num.append(i)\n",
    "    if data[i].dtype == np.object:\n",
    "        cat.append(i)"
   ]
  },
  {
   "cell_type": "code",
   "execution_count": 18,
   "metadata": {},
   "outputs": [
    {
     "name": "stdout",
     "output_type": "stream",
     "text": [
      "['MasVnrType', 'BsmtQual', 'BsmtCond', 'BsmtExposure', 'BsmtFinType1', 'BsmtFinType2', 'Electrical', 'FireplaceQu', 'GarageType', 'GarageFinish', 'GarageQual', 'GarageCond', 'MSZoning', 'Utilities', 'Exterior1st', 'Exterior2nd', 'KitchenQual', 'Functional', 'SaleType']\n"
     ]
    }
   ],
   "source": [
    "print(cat)"
   ]
  },
  {
   "cell_type": "markdown",
   "metadata": {},
   "source": [
    "Many of these categorical variables can have missing data assigned to an \"Other\" category. However, \"MSZoning\" can be intuitively conclude from the \"MSSubclass\". So, we will group by \"MSSubclass\" and replace NA values in \"MSZoning\" with the most used category for that subclass"
   ]
  },
  {
   "cell_type": "code",
   "execution_count": 19,
   "metadata": {},
   "outputs": [],
   "source": [
    "cat.remove(\"MSZoning\")\n",
    "\n",
    "for i in cat:\n",
    "    data[i].fillna(\"Other\", inplace = True)\n",
    "    \n",
    "data['MSZoning'] = data.groupby('MSSubClass')['MSZoning'].transform(lambda x: x.fillna(x.mode()[0]))"
   ]
  },
  {
   "cell_type": "code",
   "execution_count": 20,
   "metadata": {},
   "outputs": [
    {
     "data": {
      "text/plain": [
       "MasVnrType      0\n",
       "BsmtQual        0\n",
       "BsmtCond        0\n",
       "BsmtExposure    0\n",
       "BsmtFinType1    0\n",
       "BsmtFinType2    0\n",
       "Electrical      0\n",
       "FireplaceQu     0\n",
       "GarageType      0\n",
       "GarageFinish    0\n",
       "GarageQual      0\n",
       "GarageCond      0\n",
       "Utilities       0\n",
       "Exterior1st     0\n",
       "Exterior2nd     0\n",
       "KitchenQual     0\n",
       "Functional      0\n",
       "SaleType        0\n",
       "dtype: int64"
      ]
     },
     "execution_count": 20,
     "metadata": {},
     "output_type": "execute_result"
    }
   ],
   "source": [
    "data[cat].isnull().sum()"
   ]
  },
  {
   "cell_type": "code",
   "execution_count": 21,
   "metadata": {},
   "outputs": [
    {
     "data": {
      "text/plain": [
       "0"
      ]
     },
     "execution_count": 21,
     "metadata": {},
     "output_type": "execute_result"
    }
   ],
   "source": [
    "data[\"MSZoning\"].isnull().sum()"
   ]
  },
  {
   "cell_type": "code",
   "execution_count": 22,
   "metadata": {},
   "outputs": [
    {
     "name": "stdout",
     "output_type": "stream",
     "text": [
      "['LotFrontage', 'MasVnrArea', 'GarageYrBlt', 'BsmtFinSF1', 'BsmtFinSF2', 'BsmtUnfSF', 'TotalBsmtSF', 'BsmtFullBath', 'BsmtHalfBath', 'GarageCars', 'GarageArea']\n"
     ]
    }
   ],
   "source": [
    "print(num)"
   ]
  },
  {
   "cell_type": "markdown",
   "metadata": {},
   "source": [
    "For some of these numeric variables with missing data, data entry is omitted when there are not instances of a certain quality. For example, not all houses have basements and so NA values are entered for BsmtFinSF1 and so forth. Therefore we can simply enter zero for those. For LotFrontage, we will use mean size for the neighborhood in which it is based"
   ]
  },
  {
   "cell_type": "code",
   "execution_count": 23,
   "metadata": {},
   "outputs": [
    {
     "name": "stdout",
     "output_type": "stream",
     "text": [
      "LotFrontage\n",
      "MasVnrArea\n",
      "GarageYrBlt\n",
      "BsmtFinSF1\n",
      "BsmtFinSF2\n",
      "BsmtUnfSF\n",
      "TotalBsmtSF\n",
      "BsmtFullBath\n",
      "BsmtHalfBath\n",
      "GarageCars\n",
      "GarageArea\n"
     ]
    }
   ],
   "source": [
    "#num.remove(\"LotFrontage\")\n",
    "for i in num:\n",
    "    print(i)\n",
    "    data[i].fillna(0, inplace = True)\n",
    "\n",
    "data['LotFrontage'] = data.groupby('Neighborhood')['LotFrontage'].transform(lambda x: x.fillna(x.mean()))"
   ]
  },
  {
   "cell_type": "code",
   "execution_count": 24,
   "metadata": {},
   "outputs": [
    {
     "data": {
      "text/plain": [
       "LotFrontage     0\n",
       "MasVnrArea      0\n",
       "GarageYrBlt     0\n",
       "BsmtFinSF1      0\n",
       "BsmtFinSF2      0\n",
       "BsmtUnfSF       0\n",
       "TotalBsmtSF     0\n",
       "BsmtFullBath    0\n",
       "BsmtHalfBath    0\n",
       "GarageCars      0\n",
       "GarageArea      0\n",
       "dtype: int64"
      ]
     },
     "execution_count": 24,
     "metadata": {},
     "output_type": "execute_result"
    }
   ],
   "source": [
    "data[num].isnull().sum()"
   ]
  },
  {
   "cell_type": "code",
   "execution_count": 25,
   "metadata": {},
   "outputs": [
    {
     "data": {
      "text/plain": [
       "0"
      ]
     },
     "execution_count": 25,
     "metadata": {},
     "output_type": "execute_result"
    }
   ],
   "source": [
    "data[\"LotFrontage\"].isnull().sum()"
   ]
  },
  {
   "cell_type": "code",
   "execution_count": 26,
   "metadata": {},
   "outputs": [
    {
     "data": {
      "text/plain": [
       "True"
      ]
     },
     "execution_count": 26,
     "metadata": {},
     "output_type": "execute_result"
    }
   ],
   "source": [
    "data.isnull().any().any()"
   ]
  },
  {
   "cell_type": "code",
   "execution_count": 27,
   "metadata": {},
   "outputs": [
    {
     "name": "stdout",
     "output_type": "stream",
     "text": [
      "The number of NA values in the column  Id  is:  0\n",
      "The number of NA values in the column  MSSubClass  is:  0\n",
      "The number of NA values in the column  MSZoning  is:  0\n",
      "The number of NA values in the column  LotFrontage  is:  0\n",
      "The number of NA values in the column  LotArea  is:  0\n",
      "The number of NA values in the column  Street  is:  0\n",
      "The number of NA values in the column  LotShape  is:  0\n",
      "The number of NA values in the column  LandContour  is:  0\n",
      "The number of NA values in the column  Utilities  is:  0\n",
      "The number of NA values in the column  LotConfig  is:  0\n",
      "The number of NA values in the column  LandSlope  is:  0\n",
      "The number of NA values in the column  Neighborhood  is:  0\n",
      "The number of NA values in the column  Condition1  is:  0\n",
      "The number of NA values in the column  Condition2  is:  0\n",
      "The number of NA values in the column  BldgType  is:  0\n",
      "The number of NA values in the column  HouseStyle  is:  0\n",
      "The number of NA values in the column  OverallQual  is:  0\n",
      "The number of NA values in the column  OverallCond  is:  0\n",
      "The number of NA values in the column  YearBuilt  is:  0\n",
      "The number of NA values in the column  YearRemodAdd  is:  0\n",
      "The number of NA values in the column  RoofStyle  is:  0\n",
      "The number of NA values in the column  RoofMatl  is:  0\n",
      "The number of NA values in the column  Exterior1st  is:  0\n",
      "The number of NA values in the column  Exterior2nd  is:  0\n",
      "The number of NA values in the column  MasVnrType  is:  0\n",
      "The number of NA values in the column  MasVnrArea  is:  0\n",
      "The number of NA values in the column  ExterQual  is:  0\n",
      "The number of NA values in the column  ExterCond  is:  0\n",
      "The number of NA values in the column  Foundation  is:  0\n",
      "The number of NA values in the column  BsmtQual  is:  0\n",
      "The number of NA values in the column  BsmtCond  is:  0\n",
      "The number of NA values in the column  BsmtExposure  is:  0\n",
      "The number of NA values in the column  BsmtFinType1  is:  0\n",
      "The number of NA values in the column  BsmtFinSF1  is:  0\n",
      "The number of NA values in the column  BsmtFinType2  is:  0\n",
      "The number of NA values in the column  BsmtFinSF2  is:  0\n",
      "The number of NA values in the column  BsmtUnfSF  is:  0\n",
      "The number of NA values in the column  TotalBsmtSF  is:  0\n",
      "The number of NA values in the column  Heating  is:  0\n",
      "The number of NA values in the column  HeatingQC  is:  0\n",
      "The number of NA values in the column  CentralAir  is:  0\n",
      "The number of NA values in the column  Electrical  is:  0\n",
      "The number of NA values in the column  1stFlrSF  is:  0\n",
      "The number of NA values in the column  2ndFlrSF  is:  0\n",
      "The number of NA values in the column  LowQualFinSF  is:  0\n",
      "The number of NA values in the column  GrLivArea  is:  0\n",
      "The number of NA values in the column  BsmtFullBath  is:  0\n",
      "The number of NA values in the column  BsmtHalfBath  is:  0\n",
      "The number of NA values in the column  FullBath  is:  0\n",
      "The number of NA values in the column  HalfBath  is:  0\n",
      "The number of NA values in the column  BedroomAbvGr  is:  0\n",
      "The number of NA values in the column  KitchenAbvGr  is:  0\n",
      "The number of NA values in the column  KitchenQual  is:  0\n",
      "The number of NA values in the column  TotRmsAbvGrd  is:  0\n",
      "The number of NA values in the column  Functional  is:  0\n",
      "The number of NA values in the column  Fireplaces  is:  0\n",
      "The number of NA values in the column  FireplaceQu  is:  0\n",
      "The number of NA values in the column  GarageType  is:  0\n",
      "The number of NA values in the column  GarageYrBlt  is:  0\n",
      "The number of NA values in the column  GarageFinish  is:  0\n",
      "The number of NA values in the column  GarageCars  is:  0\n",
      "The number of NA values in the column  GarageArea  is:  0\n",
      "The number of NA values in the column  GarageQual  is:  0\n",
      "The number of NA values in the column  GarageCond  is:  0\n",
      "The number of NA values in the column  PavedDrive  is:  0\n",
      "The number of NA values in the column  WoodDeckSF  is:  0\n",
      "The number of NA values in the column  OpenPorchSF  is:  0\n",
      "The number of NA values in the column  EnclosedPorch  is:  0\n",
      "The number of NA values in the column  3SsnPorch  is:  0\n",
      "The number of NA values in the column  ScreenPorch  is:  0\n",
      "The number of NA values in the column  PoolArea  is:  0\n",
      "The number of NA values in the column  MiscVal  is:  0\n",
      "The number of NA values in the column  MoSold  is:  0\n",
      "The number of NA values in the column  YrSold  is:  0\n",
      "The number of NA values in the column  SaleType  is:  0\n",
      "The number of NA values in the column  SaleCondition  is:  0\n",
      "The number of NA values in the column  SalePrice  is:  1459\n"
     ]
    }
   ],
   "source": [
    "col_names = list(data.columns) #get column names\n",
    "for i in col_names:\n",
    "    col = data[i] #selects column\n",
    "    num_NA = sum(col.isna()) #sums the number of NA values for selected column\n",
    "    print(\"The number of NA values in the column \", i, \" is: \", num_NA)\n",
    "    #if num_NA > 0 and i not in NA_list:\n",
    "     #   NA_list.append(i)"
   ]
  },
  {
   "cell_type": "markdown",
   "metadata": {},
   "source": [
    "## Create Dummies for Categorical Variables"
   ]
  },
  {
   "cell_type": "code",
   "execution_count": 28,
   "metadata": {},
   "outputs": [],
   "source": [
    "# use pd.get_dummies() for all of these categorical variables\n",
    "dummies_df = pd.DataFrame()\n",
    "for i in col_names:\n",
    "    if data[i].dtype == np.object:\n",
    "        dummies_df = pd.concat([dummies_df, pd.get_dummies(data[i])], axis=1)"
   ]
  },
  {
   "cell_type": "code",
   "execution_count": 29,
   "metadata": {},
   "outputs": [
    {
     "data": {
      "text/plain": [
       "False"
      ]
     },
     "execution_count": 29,
     "metadata": {},
     "output_type": "execute_result"
    }
   ],
   "source": [
    "#have missing values been replaced with zeros?\n",
    "dummies_df.isnull().any().any() #isnull() checks each value if NA, first any() checks columns and returns boolean for each column if there are NAs, second any() returns one boolean if there are any NAs at all"
   ]
  },
  {
   "cell_type": "code",
   "execution_count": 30,
   "metadata": {},
   "outputs": [],
   "source": [
    "# drop object variables since we now have dummy variables\n",
    "for i in col_names:\n",
    "    if data[i].dtype == np.object:\n",
    "        data = data.drop(columns = i)"
   ]
  },
  {
   "cell_type": "code",
   "execution_count": 31,
   "metadata": {},
   "outputs": [],
   "source": [
    "data = pd.concat([data, dummies_df], axis = 1)"
   ]
  },
  {
   "cell_type": "code",
   "execution_count": 38,
   "metadata": {},
   "outputs": [],
   "source": [
    "train_df = data.iloc[:1460]\n",
    "test_df = data.iloc[1460:]"
   ]
  },
  {
   "cell_type": "markdown",
   "metadata": {},
   "source": [
    "## Modeling Techniques"
   ]
  },
  {
   "cell_type": "markdown",
   "metadata": {},
   "source": [
    "Given that our data set isn't particularly wide, discriminatory regression techniques shouldn't be all that necessary. However, for shits and giggles let's do a LASSO model. But first, we shall begin with a fairly simply linear regression model and then try a polynomial regression model. We do a form of cross-validation and will compare MSE in order to determine which model seems like the best path to follow."
   ]
  },
  {
   "cell_type": "markdown",
   "metadata": {},
   "source": [
    "### Linear Model"
   ]
  },
  {
   "cell_type": "code",
   "execution_count": 79,
   "metadata": {},
   "outputs": [
    {
     "name": "stdout",
     "output_type": "stream",
     "text": [
      "100.83641596476585 0.12020039271267405\n"
     ]
    }
   ],
   "source": [
    "#let's do leave one out CV with 10 folds\n",
    "folds = list(range(0, 1460, 146))\n",
    "MSEs = []\n",
    "Percs = []\n",
    "for i in folds:\n",
    "    test = train_df.iloc[i:i+146]\n",
    "    test_x = test.drop(columns = \"SalePrice\")\n",
    "    test_y = test[\"SalePrice\"]\n",
    "    train = train_df.drop(train_df.index[list(range(i,i+146))])\n",
    "    train_x = train.drop(columns = \"SalePrice\")\n",
    "    train_y = train[\"SalePrice\"]\n",
    "    lin_mod = LinearRegression().fit(train_x, train_y)\n",
    "    lin_pred = lin_mod.predict(test_x) #returns a numpy array so can't use pandas indexing and what not\n",
    "    err = []\n",
    "    percent = []\n",
    "    for i in range(0, len(lin_pred)):\n",
    "        #print(test_y.iloc[i], lin_pred[i]) #how to index pandas and numpy array for rows\n",
    "        err.append((test_y.iloc[i]-lin_pred[i])**2)\n",
    "        percent.append((lin_pred[i]/test_y.iloc[i])*100) #what percent is the prediction of the actual price\n",
    "    MSEs.append(mean(err))\n",
    "    Percs.append(mean(percent))\n",
    "\n",
    "print(mean(Percs), mean(MSEs)/10000000000) #our MSE is huge because our error greater than one, even if it may only be off by a few percent of the actual\n"
   ]
  },
  {
   "cell_type": "markdown",
   "metadata": {},
   "source": [
    "It would appear that on average, our predicted sale price in our cross validation is roughly one percent higher than the actuall price. The mean squared error is deceptively large in this instance due to that fact that the error, while being relatively small, is much greater than 1 due to the fact that we are predicting on such large numbers. In any case, I feel that this is promising. Note that our method of cross validation has very large training data compared to testing. This could influence the result of CV to make the model appear more accurate. It could be worth investigating train and test data that are more similar sizes."
   ]
  },
  {
   "cell_type": "code",
   "execution_count": 98,
   "metadata": {},
   "outputs": [],
   "source": [
    "#Now to build model and fit data\n",
    "#first get the data ready\n",
    "train_x = train_df.drop(columns = \"SalePrice\")\n",
    "train_y = train_df[\"SalePrice\"]\n",
    "test_x = test_df.drop(columns = \"SalePrice\")\n",
    "\n",
    "#define the model and fit the data\n",
    "lin_mod = LinearRegression().fit(train_x, train_y)\n",
    "\n",
    "#predict with test inputs\n",
    "lin_pred = lin_mod.predict(test_x) #returns as numpy array so will have to change to pandas to write to csv\n",
    "\n",
    "lin_pred = pd.DataFrame(lin_pred, columns = [\"SalePrice\"])\n",
    "result = pd.concat([test_df[\"Id\"],  lin_pred], axis = 1)\n",
    "#result.to_csv(\"PythonResult.csv\")"
   ]
  },
  {
   "cell_type": "markdown",
   "metadata": {},
   "source": [
    "### Polynomial Model"
   ]
  },
  {
   "cell_type": "code",
   "execution_count": 100,
   "metadata": {},
   "outputs": [
    {
     "ename": "KeyError",
     "evalue": "0",
     "output_type": "error",
     "traceback": [
      "\u001b[1;31m---------------------------------------------------------------------------\u001b[0m",
      "\u001b[1;31mKeyError\u001b[0m                                  Traceback (most recent call last)",
      "\u001b[1;32m~\\AppData\\Local\\Continuum\\anaconda3\\lib\\site-packages\\pandas\\core\\indexes\\base.py\u001b[0m in \u001b[0;36mget_loc\u001b[1;34m(self, key, method, tolerance)\u001b[0m\n\u001b[0;32m   2656\u001b[0m             \u001b[1;32mtry\u001b[0m\u001b[1;33m:\u001b[0m\u001b[1;33m\u001b[0m\u001b[1;33m\u001b[0m\u001b[0m\n\u001b[1;32m-> 2657\u001b[1;33m                 \u001b[1;32mreturn\u001b[0m \u001b[0mself\u001b[0m\u001b[1;33m.\u001b[0m\u001b[0m_engine\u001b[0m\u001b[1;33m.\u001b[0m\u001b[0mget_loc\u001b[0m\u001b[1;33m(\u001b[0m\u001b[0mkey\u001b[0m\u001b[1;33m)\u001b[0m\u001b[1;33m\u001b[0m\u001b[1;33m\u001b[0m\u001b[0m\n\u001b[0m\u001b[0;32m   2658\u001b[0m             \u001b[1;32mexcept\u001b[0m \u001b[0mKeyError\u001b[0m\u001b[1;33m:\u001b[0m\u001b[1;33m\u001b[0m\u001b[1;33m\u001b[0m\u001b[0m\n",
      "\u001b[1;32mpandas/_libs/index.pyx\u001b[0m in \u001b[0;36mpandas._libs.index.IndexEngine.get_loc\u001b[1;34m()\u001b[0m\n",
      "\u001b[1;32mpandas/_libs/index.pyx\u001b[0m in \u001b[0;36mpandas._libs.index.IndexEngine.get_loc\u001b[1;34m()\u001b[0m\n",
      "\u001b[1;32mpandas/_libs/hashtable_class_helper.pxi\u001b[0m in \u001b[0;36mpandas._libs.hashtable.PyObjectHashTable.get_item\u001b[1;34m()\u001b[0m\n",
      "\u001b[1;32mpandas/_libs/hashtable_class_helper.pxi\u001b[0m in \u001b[0;36mpandas._libs.hashtable.PyObjectHashTable.get_item\u001b[1;34m()\u001b[0m\n",
      "\u001b[1;31mKeyError\u001b[0m: 0",
      "\nDuring handling of the above exception, another exception occurred:\n",
      "\u001b[1;31mKeyError\u001b[0m                                  Traceback (most recent call last)",
      "\u001b[1;32m<ipython-input-100-d14f0e367aa4>\u001b[0m in \u001b[0;36m<module>\u001b[1;34m\u001b[0m\n\u001b[0;32m     24\u001b[0m         \u001b[1;32mfor\u001b[0m \u001b[0mi\u001b[0m \u001b[1;32min\u001b[0m \u001b[0mrange\u001b[0m\u001b[1;33m(\u001b[0m\u001b[1;36m0\u001b[0m\u001b[1;33m,\u001b[0m \u001b[0mlen\u001b[0m\u001b[1;33m(\u001b[0m\u001b[0mlin_pred\u001b[0m\u001b[1;33m)\u001b[0m\u001b[1;33m)\u001b[0m\u001b[1;33m:\u001b[0m\u001b[1;33m\u001b[0m\u001b[1;33m\u001b[0m\u001b[0m\n\u001b[0;32m     25\u001b[0m             \u001b[1;31m#print(test_y.iloc[i], lin_pred[i]) #how to index pandas and numpy array for rows\u001b[0m\u001b[1;33m\u001b[0m\u001b[1;33m\u001b[0m\u001b[1;33m\u001b[0m\u001b[0m\n\u001b[1;32m---> 26\u001b[1;33m             \u001b[0merr\u001b[0m\u001b[1;33m.\u001b[0m\u001b[0mappend\u001b[0m\u001b[1;33m(\u001b[0m\u001b[1;33m(\u001b[0m\u001b[0mtest_y\u001b[0m\u001b[1;33m.\u001b[0m\u001b[0miloc\u001b[0m\u001b[1;33m[\u001b[0m\u001b[0mi\u001b[0m\u001b[1;33m]\u001b[0m\u001b[1;33m-\u001b[0m\u001b[0mlin_pred\u001b[0m\u001b[1;33m[\u001b[0m\u001b[0mi\u001b[0m\u001b[1;33m]\u001b[0m\u001b[1;33m)\u001b[0m\u001b[1;33m**\u001b[0m\u001b[1;36m2\u001b[0m\u001b[1;33m)\u001b[0m\u001b[1;33m\u001b[0m\u001b[1;33m\u001b[0m\u001b[0m\n\u001b[0m\u001b[0;32m     27\u001b[0m             \u001b[0mpercent\u001b[0m\u001b[1;33m.\u001b[0m\u001b[0mappend\u001b[0m\u001b[1;33m(\u001b[0m\u001b[1;33m(\u001b[0m\u001b[0mlin_pred\u001b[0m\u001b[1;33m[\u001b[0m\u001b[0mi\u001b[0m\u001b[1;33m]\u001b[0m\u001b[1;33m/\u001b[0m\u001b[0mtest_y\u001b[0m\u001b[1;33m.\u001b[0m\u001b[0miloc\u001b[0m\u001b[1;33m[\u001b[0m\u001b[0mi\u001b[0m\u001b[1;33m]\u001b[0m\u001b[1;33m)\u001b[0m\u001b[1;33m*\u001b[0m\u001b[1;36m100\u001b[0m\u001b[1;33m)\u001b[0m \u001b[1;31m#what percent is the prediction of the actual price\u001b[0m\u001b[1;33m\u001b[0m\u001b[1;33m\u001b[0m\u001b[0m\n\u001b[0;32m     28\u001b[0m         \u001b[0mdeg_mse\u001b[0m\u001b[1;33m.\u001b[0m\u001b[0mappend\u001b[0m\u001b[1;33m(\u001b[0m\u001b[0mmean\u001b[0m\u001b[1;33m(\u001b[0m\u001b[0merr\u001b[0m\u001b[1;33m)\u001b[0m\u001b[1;33m)\u001b[0m\u001b[1;33m\u001b[0m\u001b[1;33m\u001b[0m\u001b[0m\n",
      "\u001b[1;32m~\\AppData\\Local\\Continuum\\anaconda3\\lib\\site-packages\\pandas\\core\\frame.py\u001b[0m in \u001b[0;36m__getitem__\u001b[1;34m(self, key)\u001b[0m\n\u001b[0;32m   2925\u001b[0m             \u001b[1;32mif\u001b[0m \u001b[0mself\u001b[0m\u001b[1;33m.\u001b[0m\u001b[0mcolumns\u001b[0m\u001b[1;33m.\u001b[0m\u001b[0mnlevels\u001b[0m \u001b[1;33m>\u001b[0m \u001b[1;36m1\u001b[0m\u001b[1;33m:\u001b[0m\u001b[1;33m\u001b[0m\u001b[1;33m\u001b[0m\u001b[0m\n\u001b[0;32m   2926\u001b[0m                 \u001b[1;32mreturn\u001b[0m \u001b[0mself\u001b[0m\u001b[1;33m.\u001b[0m\u001b[0m_getitem_multilevel\u001b[0m\u001b[1;33m(\u001b[0m\u001b[0mkey\u001b[0m\u001b[1;33m)\u001b[0m\u001b[1;33m\u001b[0m\u001b[1;33m\u001b[0m\u001b[0m\n\u001b[1;32m-> 2927\u001b[1;33m             \u001b[0mindexer\u001b[0m \u001b[1;33m=\u001b[0m \u001b[0mself\u001b[0m\u001b[1;33m.\u001b[0m\u001b[0mcolumns\u001b[0m\u001b[1;33m.\u001b[0m\u001b[0mget_loc\u001b[0m\u001b[1;33m(\u001b[0m\u001b[0mkey\u001b[0m\u001b[1;33m)\u001b[0m\u001b[1;33m\u001b[0m\u001b[1;33m\u001b[0m\u001b[0m\n\u001b[0m\u001b[0;32m   2928\u001b[0m             \u001b[1;32mif\u001b[0m \u001b[0mis_integer\u001b[0m\u001b[1;33m(\u001b[0m\u001b[0mindexer\u001b[0m\u001b[1;33m)\u001b[0m\u001b[1;33m:\u001b[0m\u001b[1;33m\u001b[0m\u001b[1;33m\u001b[0m\u001b[0m\n\u001b[0;32m   2929\u001b[0m                 \u001b[0mindexer\u001b[0m \u001b[1;33m=\u001b[0m \u001b[1;33m[\u001b[0m\u001b[0mindexer\u001b[0m\u001b[1;33m]\u001b[0m\u001b[1;33m\u001b[0m\u001b[1;33m\u001b[0m\u001b[0m\n",
      "\u001b[1;32m~\\AppData\\Local\\Continuum\\anaconda3\\lib\\site-packages\\pandas\\core\\indexes\\base.py\u001b[0m in \u001b[0;36mget_loc\u001b[1;34m(self, key, method, tolerance)\u001b[0m\n\u001b[0;32m   2657\u001b[0m                 \u001b[1;32mreturn\u001b[0m \u001b[0mself\u001b[0m\u001b[1;33m.\u001b[0m\u001b[0m_engine\u001b[0m\u001b[1;33m.\u001b[0m\u001b[0mget_loc\u001b[0m\u001b[1;33m(\u001b[0m\u001b[0mkey\u001b[0m\u001b[1;33m)\u001b[0m\u001b[1;33m\u001b[0m\u001b[1;33m\u001b[0m\u001b[0m\n\u001b[0;32m   2658\u001b[0m             \u001b[1;32mexcept\u001b[0m \u001b[0mKeyError\u001b[0m\u001b[1;33m:\u001b[0m\u001b[1;33m\u001b[0m\u001b[1;33m\u001b[0m\u001b[0m\n\u001b[1;32m-> 2659\u001b[1;33m                 \u001b[1;32mreturn\u001b[0m \u001b[0mself\u001b[0m\u001b[1;33m.\u001b[0m\u001b[0m_engine\u001b[0m\u001b[1;33m.\u001b[0m\u001b[0mget_loc\u001b[0m\u001b[1;33m(\u001b[0m\u001b[0mself\u001b[0m\u001b[1;33m.\u001b[0m\u001b[0m_maybe_cast_indexer\u001b[0m\u001b[1;33m(\u001b[0m\u001b[0mkey\u001b[0m\u001b[1;33m)\u001b[0m\u001b[1;33m)\u001b[0m\u001b[1;33m\u001b[0m\u001b[1;33m\u001b[0m\u001b[0m\n\u001b[0m\u001b[0;32m   2660\u001b[0m         \u001b[0mindexer\u001b[0m \u001b[1;33m=\u001b[0m \u001b[0mself\u001b[0m\u001b[1;33m.\u001b[0m\u001b[0mget_indexer\u001b[0m\u001b[1;33m(\u001b[0m\u001b[1;33m[\u001b[0m\u001b[0mkey\u001b[0m\u001b[1;33m]\u001b[0m\u001b[1;33m,\u001b[0m \u001b[0mmethod\u001b[0m\u001b[1;33m=\u001b[0m\u001b[0mmethod\u001b[0m\u001b[1;33m,\u001b[0m \u001b[0mtolerance\u001b[0m\u001b[1;33m=\u001b[0m\u001b[0mtolerance\u001b[0m\u001b[1;33m)\u001b[0m\u001b[1;33m\u001b[0m\u001b[1;33m\u001b[0m\u001b[0m\n\u001b[0;32m   2661\u001b[0m         \u001b[1;32mif\u001b[0m \u001b[0mindexer\u001b[0m\u001b[1;33m.\u001b[0m\u001b[0mndim\u001b[0m \u001b[1;33m>\u001b[0m \u001b[1;36m1\u001b[0m \u001b[1;32mor\u001b[0m \u001b[0mindexer\u001b[0m\u001b[1;33m.\u001b[0m\u001b[0msize\u001b[0m \u001b[1;33m>\u001b[0m \u001b[1;36m1\u001b[0m\u001b[1;33m:\u001b[0m\u001b[1;33m\u001b[0m\u001b[1;33m\u001b[0m\u001b[0m\n",
      "\u001b[1;32mpandas/_libs/index.pyx\u001b[0m in \u001b[0;36mpandas._libs.index.IndexEngine.get_loc\u001b[1;34m()\u001b[0m\n",
      "\u001b[1;32mpandas/_libs/index.pyx\u001b[0m in \u001b[0;36mpandas._libs.index.IndexEngine.get_loc\u001b[1;34m()\u001b[0m\n",
      "\u001b[1;32mpandas/_libs/hashtable_class_helper.pxi\u001b[0m in \u001b[0;36mpandas._libs.hashtable.PyObjectHashTable.get_item\u001b[1;34m()\u001b[0m\n",
      "\u001b[1;32mpandas/_libs/hashtable_class_helper.pxi\u001b[0m in \u001b[0;36mpandas._libs.hashtable.PyObjectHashTable.get_item\u001b[1;34m()\u001b[0m\n",
      "\u001b[1;31mKeyError\u001b[0m: 0"
     ]
    }
   ],
   "source": [
    "degrees = range(2, 293)\n",
    "folds = list(range(0, 1460, 146))\n",
    "MSEs = []\n",
    "Percs = []\n",
    "for d in degrees:\n",
    "    deg_mse = []\n",
    "    deg_perc = []\n",
    "    for i in folds:\n",
    "        #separate data into inputs and outputs\n",
    "        test = train_df.iloc[i:i+146]\n",
    "        test_x = test.drop(columns = \"SalePrice\")\n",
    "        test_y = test[\"SalePrice\"]\n",
    "        train = train_df.drop(train_df.index[list(range(i,i+146))])\n",
    "        train_x = train.drop(columns = \"SalePrice\")\n",
    "        train_y = train[\"SalePrice\"]\n",
    "        #transform into polynomial\n",
    "        poly = PolynomialFeatures(degree = d) \n",
    "        X_poly = poly.fit_transform(train_x)\n",
    "        poly.fit(X_poly, train_y)\n",
    "        poly_mod = LinearRegression().fit(X_poly, train_y)\n",
    "        poly_pred = poly_mod.predict(poly.fit_transform(test_x)) #returns a numpy array so can't use pandas indexing and what not\n",
    "        err = []\n",
    "        percent = []\n",
    "        for i in range(0, len(lin_pred)):\n",
    "            #print(test_y.iloc[i], lin_pred[i]) #how to index pandas and numpy array for rows\n",
    "            err.append((test_y.iloc[i]-lin_pred[i])**2)\n",
    "            percent.append((lin_pred[i]/test_y.iloc[i])*100) #what percent is the prediction of the actual price\n",
    "        deg_mse.append(mean(err))\n",
    "        deg_per.append(mean(percent))\n",
    "    MSEs.append(mean(deg_mse))\n",
    "    Percs.append(mean(deg_perc))"
   ]
  },
  {
   "cell_type": "markdown",
   "metadata": {},
   "source": [
    "Splitting the dataset into the Training set and Test set\n",
    "\n",
    "from sklearn.model_selection import train_test_split \n",
    "\n",
    "X_train, X_test, y_train, y_test = train_test_split(X, y, test_size=0.2, random_state=0)"
   ]
  },
  {
   "cell_type": "code",
   "execution_count": 102,
   "metadata": {},
   "outputs": [
    {
     "ename": "MemoryError",
     "evalue": "",
     "output_type": "error",
     "traceback": [
      "\u001b[1;31m---------------------------------------------------------------------------\u001b[0m",
      "\u001b[1;31mMemoryError\u001b[0m                               Traceback (most recent call last)",
      "\u001b[1;32m<ipython-input-102-e82438cd1030>\u001b[0m in \u001b[0;36m<module>\u001b[1;34m\u001b[0m\n\u001b[0;32m      9\u001b[0m \u001b[0mpoly_reg\u001b[0m \u001b[1;33m=\u001b[0m \u001b[0mPolynomialFeatures\u001b[0m\u001b[1;33m(\u001b[0m\u001b[0mdegree\u001b[0m\u001b[1;33m=\u001b[0m\u001b[1;36m4\u001b[0m\u001b[1;33m)\u001b[0m\u001b[1;33m\u001b[0m\u001b[1;33m\u001b[0m\u001b[0m\n\u001b[0;32m     10\u001b[0m \u001b[1;33m\u001b[0m\u001b[0m\n\u001b[1;32m---> 11\u001b[1;33m \u001b[0mX_poly\u001b[0m \u001b[1;33m=\u001b[0m \u001b[0mpoly_reg\u001b[0m\u001b[1;33m.\u001b[0m\u001b[0mfit_transform\u001b[0m\u001b[1;33m(\u001b[0m\u001b[0mtrain_x\u001b[0m\u001b[1;33m)\u001b[0m\u001b[1;33m\u001b[0m\u001b[1;33m\u001b[0m\u001b[0m\n\u001b[0m\u001b[0;32m     12\u001b[0m \u001b[1;33m\u001b[0m\u001b[0m\n\u001b[0;32m     13\u001b[0m \u001b[0mpol_reg\u001b[0m \u001b[1;33m=\u001b[0m \u001b[0mLinearRegression\u001b[0m\u001b[1;33m(\u001b[0m\u001b[1;33m)\u001b[0m\u001b[1;33m.\u001b[0m\u001b[0mfit\u001b[0m\u001b[1;33m(\u001b[0m\u001b[0mX_poly\u001b[0m\u001b[1;33m,\u001b[0m \u001b[0my\u001b[0m\u001b[1;33m)\u001b[0m\u001b[1;33m\u001b[0m\u001b[1;33m\u001b[0m\u001b[0m\n",
      "\u001b[1;32m~\\AppData\\Local\\Continuum\\anaconda3\\lib\\site-packages\\sklearn\\base.py\u001b[0m in \u001b[0;36mfit_transform\u001b[1;34m(self, X, y, **fit_params)\u001b[0m\n\u001b[0;32m    551\u001b[0m         \u001b[1;32mif\u001b[0m \u001b[0my\u001b[0m \u001b[1;32mis\u001b[0m \u001b[1;32mNone\u001b[0m\u001b[1;33m:\u001b[0m\u001b[1;33m\u001b[0m\u001b[1;33m\u001b[0m\u001b[0m\n\u001b[0;32m    552\u001b[0m             \u001b[1;31m# fit method of arity 1 (unsupervised transformation)\u001b[0m\u001b[1;33m\u001b[0m\u001b[1;33m\u001b[0m\u001b[1;33m\u001b[0m\u001b[0m\n\u001b[1;32m--> 553\u001b[1;33m             \u001b[1;32mreturn\u001b[0m \u001b[0mself\u001b[0m\u001b[1;33m.\u001b[0m\u001b[0mfit\u001b[0m\u001b[1;33m(\u001b[0m\u001b[0mX\u001b[0m\u001b[1;33m,\u001b[0m \u001b[1;33m**\u001b[0m\u001b[0mfit_params\u001b[0m\u001b[1;33m)\u001b[0m\u001b[1;33m.\u001b[0m\u001b[0mtransform\u001b[0m\u001b[1;33m(\u001b[0m\u001b[0mX\u001b[0m\u001b[1;33m)\u001b[0m\u001b[1;33m\u001b[0m\u001b[1;33m\u001b[0m\u001b[0m\n\u001b[0m\u001b[0;32m    554\u001b[0m         \u001b[1;32melse\u001b[0m\u001b[1;33m:\u001b[0m\u001b[1;33m\u001b[0m\u001b[1;33m\u001b[0m\u001b[0m\n\u001b[0;32m    555\u001b[0m             \u001b[1;31m# fit method of arity 2 (supervised transformation)\u001b[0m\u001b[1;33m\u001b[0m\u001b[1;33m\u001b[0m\u001b[1;33m\u001b[0m\u001b[0m\n",
      "\u001b[1;32m~\\AppData\\Local\\Continuum\\anaconda3\\lib\\site-packages\\sklearn\\preprocessing\\data.py\u001b[0m in \u001b[0;36mtransform\u001b[1;34m(self, X)\u001b[0m\n\u001b[0;32m   1544\u001b[0m             \u001b[1;32melse\u001b[0m\u001b[1;33m:\u001b[0m\u001b[1;33m\u001b[0m\u001b[1;33m\u001b[0m\u001b[0m\n\u001b[0;32m   1545\u001b[0m                 XP = np.empty((n_samples, self.n_output_features_),\n\u001b[1;32m-> 1546\u001b[1;33m                               dtype=X.dtype, order=self.order)\n\u001b[0m\u001b[0;32m   1547\u001b[0m                 \u001b[1;32mfor\u001b[0m \u001b[0mi\u001b[0m\u001b[1;33m,\u001b[0m \u001b[0mcomb\u001b[0m \u001b[1;32min\u001b[0m \u001b[0menumerate\u001b[0m\u001b[1;33m(\u001b[0m\u001b[0mcombinations\u001b[0m\u001b[1;33m)\u001b[0m\u001b[1;33m:\u001b[0m\u001b[1;33m\u001b[0m\u001b[1;33m\u001b[0m\u001b[0m\n\u001b[0;32m   1548\u001b[0m                     \u001b[0mXP\u001b[0m\u001b[1;33m[\u001b[0m\u001b[1;33m:\u001b[0m\u001b[1;33m,\u001b[0m \u001b[0mi\u001b[0m\u001b[1;33m]\u001b[0m \u001b[1;33m=\u001b[0m \u001b[0mX\u001b[0m\u001b[1;33m[\u001b[0m\u001b[1;33m:\u001b[0m\u001b[1;33m,\u001b[0m \u001b[0mcomb\u001b[0m\u001b[1;33m]\u001b[0m\u001b[1;33m.\u001b[0m\u001b[0mprod\u001b[0m\u001b[1;33m(\u001b[0m\u001b[1;36m1\u001b[0m\u001b[1;33m)\u001b[0m\u001b[1;33m\u001b[0m\u001b[1;33m\u001b[0m\u001b[0m\n",
      "\u001b[1;31mMemoryError\u001b[0m: "
     ]
    }
   ],
   "source": [
    "test = train_df.iloc[i:i+146]\n",
    "test_x = test.drop(columns = \"SalePrice\")\n",
    "test_y = test[\"SalePrice\"]\n",
    "train = train_df.drop(train_df.index[list(range(i,i+146))])\n",
    "train_x = train.drop(columns = \"SalePrice\")\n",
    "train_y = train[\"SalePrice\"]\n",
    "\n",
    "\n",
    "poly_reg = PolynomialFeatures(degree=4)\n",
    "\n",
    "X_poly = poly_reg.fit_transform(train_x)\n",
    "\n",
    "pol_reg = LinearRegression().fit(X_poly, y)\n",
    "\n",
    "#pol_reg.fit(X_poly, y)\n",
    "\n",
    "pol_reg.predict(poly_reg.fit_transform(test_x))"
   ]
  },
  {
   "cell_type": "code",
   "execution_count": null,
   "metadata": {},
   "outputs": [],
   "source": []
  }
 ],
 "metadata": {
  "kernelspec": {
   "display_name": "Python 3",
   "language": "python",
   "name": "python3"
  },
  "language_info": {
   "codemirror_mode": {
    "name": "ipython",
    "version": 3
   },
   "file_extension": ".py",
   "mimetype": "text/x-python",
   "name": "python",
   "nbconvert_exporter": "python",
   "pygments_lexer": "ipython3",
   "version": "3.7.3"
  }
 },
 "nbformat": 4,
 "nbformat_minor": 2
}
